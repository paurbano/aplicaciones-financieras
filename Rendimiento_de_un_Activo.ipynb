{
  "nbformat": 4,
  "nbformat_minor": 0,
  "metadata": {
    "colab": {
      "name": "Rendimiento_de_un_Activo",
      "provenance": [],
      "authorship_tag": "ABX9TyMbXEydQslmfJC9+j9f7ZBQ",
      "include_colab_link": true
    },
    "kernelspec": {
      "name": "python3",
      "display_name": "Python 3"
    },
    "language_info": {
      "name": "python"
    }
  },
  "cells": [
    {
      "cell_type": "markdown",
      "metadata": {
        "id": "view-in-github",
        "colab_type": "text"
      },
      "source": [
        "<a href=\"https://colab.research.google.com/github/paurbano/aplicaciones-financieras/blob/main/Rendimiento_de_un_Activo.ipynb\" target=\"_parent\"><img src=\"https://colab.research.google.com/assets/colab-badge.svg\" alt=\"Open In Colab\"/></a>"
      ]
    },
    {
      "cell_type": "markdown",
      "source": [
        "# Script para calcular el rendimiento de una activo financiero\n",
        "## Basado en las clases del profesor Gerardo Hérnandez del Valle - Aplicaciones Financieras ML -Colegio Bourbaki\n",
        "\n"
      ],
      "metadata": {
        "id": "oo3R1JBHqwU7"
      }
    },
    {
      "cell_type": "code",
      "execution_count": null,
      "metadata": {
        "colab": {
          "base_uri": "https://localhost:8080/"
        },
        "id": "WPv6qLlAYSVh",
        "outputId": "4a58852d-cf3e-48f7-98a8-eb6af7cacaf7"
      },
      "outputs": [
        {
          "output_type": "stream",
          "name": "stdout",
          "text": [
            "Collecting yfinance\n",
            "  Downloading yfinance-0.1.70-py2.py3-none-any.whl (26 kB)\n",
            "Requirement already satisfied: numpy>=1.15 in /usr/local/lib/python3.7/dist-packages (from yfinance) (1.21.5)\n",
            "Requirement already satisfied: pandas>=0.24.0 in /usr/local/lib/python3.7/dist-packages (from yfinance) (1.3.5)\n",
            "Collecting lxml>=4.5.1\n",
            "  Downloading lxml-4.8.0-cp37-cp37m-manylinux_2_17_x86_64.manylinux2014_x86_64.manylinux_2_24_x86_64.whl (6.4 MB)\n",
            "\u001b[K     |████████████████████████████████| 6.4 MB 4.8 MB/s \n",
            "\u001b[?25hRequirement already satisfied: multitasking>=0.0.7 in /usr/local/lib/python3.7/dist-packages (from yfinance) (0.0.10)\n",
            "Collecting requests>=2.26\n",
            "  Downloading requests-2.27.1-py2.py3-none-any.whl (63 kB)\n",
            "\u001b[K     |████████████████████████████████| 63 kB 500 kB/s \n",
            "\u001b[?25hRequirement already satisfied: pytz>=2017.3 in /usr/local/lib/python3.7/dist-packages (from pandas>=0.24.0->yfinance) (2018.9)\n",
            "Requirement already satisfied: python-dateutil>=2.7.3 in /usr/local/lib/python3.7/dist-packages (from pandas>=0.24.0->yfinance) (2.8.2)\n",
            "Requirement already satisfied: six>=1.5 in /usr/local/lib/python3.7/dist-packages (from python-dateutil>=2.7.3->pandas>=0.24.0->yfinance) (1.15.0)\n",
            "Requirement already satisfied: charset-normalizer~=2.0.0 in /usr/local/lib/python3.7/dist-packages (from requests>=2.26->yfinance) (2.0.12)\n",
            "Requirement already satisfied: urllib3<1.27,>=1.21.1 in /usr/local/lib/python3.7/dist-packages (from requests>=2.26->yfinance) (1.24.3)\n",
            "Requirement already satisfied: idna<4,>=2.5 in /usr/local/lib/python3.7/dist-packages (from requests>=2.26->yfinance) (2.10)\n",
            "Requirement already satisfied: certifi>=2017.4.17 in /usr/local/lib/python3.7/dist-packages (from requests>=2.26->yfinance) (2021.10.8)\n",
            "Installing collected packages: requests, lxml, yfinance\n",
            "  Attempting uninstall: requests\n",
            "    Found existing installation: requests 2.23.0\n",
            "    Uninstalling requests-2.23.0:\n",
            "      Successfully uninstalled requests-2.23.0\n",
            "  Attempting uninstall: lxml\n",
            "    Found existing installation: lxml 4.2.6\n",
            "    Uninstalling lxml-4.2.6:\n",
            "      Successfully uninstalled lxml-4.2.6\n",
            "\u001b[31mERROR: pip's dependency resolver does not currently take into account all the packages that are installed. This behaviour is the source of the following dependency conflicts.\n",
            "google-colab 1.0.0 requires requests~=2.23.0, but you have requests 2.27.1 which is incompatible.\n",
            "datascience 0.10.6 requires folium==0.2.1, but you have folium 0.8.3 which is incompatible.\u001b[0m\n",
            "Successfully installed lxml-4.8.0 requests-2.27.1 yfinance-0.1.70\n"
          ]
        }
      ],
      "source": [
        "!pip install yfinance"
      ]
    },
    {
      "cell_type": "code",
      "source": [
        "import yfinance as yf\n",
        "import datetime\n",
        "import pandas as pd\n",
        "import matplotlib.pyplot as plt\n",
        "import numpy as np"
      ],
      "metadata": {
        "id": "JvDIx2v1Ygk8"
      },
      "execution_count": null,
      "outputs": []
    },
    {
      "cell_type": "code",
      "source": [
        "# as per our convenience we can modify\n",
        "startDate = datetime.datetime(2021, 1, 31)\n",
        "endDate = datetime.datetime(2022, 2, 28)\n",
        "ticker = 'BA'\n",
        "\n",
        "GetTickerInformation = yf.Ticker(ticker)\n",
        "asset = GetTickerInformation.history(start=startDate, end=endDate)"
      ],
      "metadata": {
        "id": "fk9ZtU4Nclmd"
      },
      "execution_count": null,
      "outputs": []
    },
    {
      "cell_type": "code",
      "source": [
        "asset.drop(columns=['Dividends','Stock Splits'], inplace=True)\n",
        "# rendimiento según el precio de apertura o cierre, según el gusto para analizar!!\n",
        "#asset['Rendimiento'] = (asset.Open / asset.Open.shift(1)) - 1\n",
        "asset['Rendimiento'] = (asset.Close / asset.Close.shift(1)) - 1"
      ],
      "metadata": {
        "id": "NWwPW2IbcOVQ"
      },
      "execution_count": null,
      "outputs": []
    },
    {
      "cell_type": "code",
      "source": [
        "asset"
      ],
      "metadata": {
        "colab": {
          "base_uri": "https://localhost:8080/",
          "height": 455
        },
        "id": "IdJqi_3BKQWu",
        "outputId": "e007247f-9bb0-4198-d0e8-cb6e2d6c15c8"
      },
      "execution_count": null,
      "outputs": [
        {
          "output_type": "execute_result",
          "data": {
            "text/html": [
              "\n",
              "  <div id=\"df-514243a8-63c8-4d75-80a0-926a30877f22\">\n",
              "    <div class=\"colab-df-container\">\n",
              "      <div>\n",
              "<style scoped>\n",
              "    .dataframe tbody tr th:only-of-type {\n",
              "        vertical-align: middle;\n",
              "    }\n",
              "\n",
              "    .dataframe tbody tr th {\n",
              "        vertical-align: top;\n",
              "    }\n",
              "\n",
              "    .dataframe thead th {\n",
              "        text-align: right;\n",
              "    }\n",
              "</style>\n",
              "<table border=\"1\" class=\"dataframe\">\n",
              "  <thead>\n",
              "    <tr style=\"text-align: right;\">\n",
              "      <th></th>\n",
              "      <th>Open</th>\n",
              "      <th>High</th>\n",
              "      <th>Low</th>\n",
              "      <th>Close</th>\n",
              "      <th>Volume</th>\n",
              "      <th>Rendimiento</th>\n",
              "    </tr>\n",
              "    <tr>\n",
              "      <th>Date</th>\n",
              "      <th></th>\n",
              "      <th></th>\n",
              "      <th></th>\n",
              "      <th></th>\n",
              "      <th></th>\n",
              "      <th></th>\n",
              "    </tr>\n",
              "  </thead>\n",
              "  <tbody>\n",
              "    <tr>\n",
              "      <th>2021-02-01</th>\n",
              "      <td>196.000000</td>\n",
              "      <td>197.380005</td>\n",
              "      <td>192.860001</td>\n",
              "      <td>195.839996</td>\n",
              "      <td>9061900</td>\n",
              "      <td>NaN</td>\n",
              "    </tr>\n",
              "    <tr>\n",
              "      <th>2021-02-02</th>\n",
              "      <td>198.979996</td>\n",
              "      <td>203.029999</td>\n",
              "      <td>198.089996</td>\n",
              "      <td>200.940002</td>\n",
              "      <td>11130600</td>\n",
              "      <td>0.026042</td>\n",
              "    </tr>\n",
              "    <tr>\n",
              "      <th>2021-02-03</th>\n",
              "      <td>202.000000</td>\n",
              "      <td>208.160004</td>\n",
              "      <td>201.259995</td>\n",
              "      <td>207.389999</td>\n",
              "      <td>11836900</td>\n",
              "      <td>0.032099</td>\n",
              "    </tr>\n",
              "    <tr>\n",
              "      <th>2021-02-04</th>\n",
              "      <td>209.869995</td>\n",
              "      <td>212.479996</td>\n",
              "      <td>208.020004</td>\n",
              "      <td>210.639999</td>\n",
              "      <td>11869900</td>\n",
              "      <td>0.015671</td>\n",
              "    </tr>\n",
              "    <tr>\n",
              "      <th>2021-02-05</th>\n",
              "      <td>212.250000</td>\n",
              "      <td>213.199997</td>\n",
              "      <td>206.660004</td>\n",
              "      <td>207.929993</td>\n",
              "      <td>9546100</td>\n",
              "      <td>-0.012866</td>\n",
              "    </tr>\n",
              "    <tr>\n",
              "      <th>...</th>\n",
              "      <td>...</td>\n",
              "      <td>...</td>\n",
              "      <td>...</td>\n",
              "      <td>...</td>\n",
              "      <td>...</td>\n",
              "      <td>...</td>\n",
              "    </tr>\n",
              "    <tr>\n",
              "      <th>2022-02-18</th>\n",
              "      <td>212.559998</td>\n",
              "      <td>214.729996</td>\n",
              "      <td>208.600006</td>\n",
              "      <td>209.029999</td>\n",
              "      <td>6973600</td>\n",
              "      <td>-0.021304</td>\n",
              "    </tr>\n",
              "    <tr>\n",
              "      <th>2022-02-22</th>\n",
              "      <td>205.000000</td>\n",
              "      <td>206.899994</td>\n",
              "      <td>197.820007</td>\n",
              "      <td>198.740005</td>\n",
              "      <td>10382100</td>\n",
              "      <td>-0.049227</td>\n",
              "    </tr>\n",
              "    <tr>\n",
              "      <th>2022-02-23</th>\n",
              "      <td>201.130005</td>\n",
              "      <td>203.250000</td>\n",
              "      <td>195.910004</td>\n",
              "      <td>196.419998</td>\n",
              "      <td>7326300</td>\n",
              "      <td>-0.011674</td>\n",
              "    </tr>\n",
              "    <tr>\n",
              "      <th>2022-02-24</th>\n",
              "      <td>189.289993</td>\n",
              "      <td>198.860001</td>\n",
              "      <td>186.880005</td>\n",
              "      <td>198.429993</td>\n",
              "      <td>12207600</td>\n",
              "      <td>0.010233</td>\n",
              "    </tr>\n",
              "    <tr>\n",
              "      <th>2022-02-25</th>\n",
              "      <td>201.089996</td>\n",
              "      <td>204.070007</td>\n",
              "      <td>199.100006</td>\n",
              "      <td>201.479996</td>\n",
              "      <td>8730300</td>\n",
              "      <td>0.015371</td>\n",
              "    </tr>\n",
              "  </tbody>\n",
              "</table>\n",
              "<p>271 rows × 6 columns</p>\n",
              "</div>\n",
              "      <button class=\"colab-df-convert\" onclick=\"convertToInteractive('df-514243a8-63c8-4d75-80a0-926a30877f22')\"\n",
              "              title=\"Convert this dataframe to an interactive table.\"\n",
              "              style=\"display:none;\">\n",
              "        \n",
              "  <svg xmlns=\"http://www.w3.org/2000/svg\" height=\"24px\"viewBox=\"0 0 24 24\"\n",
              "       width=\"24px\">\n",
              "    <path d=\"M0 0h24v24H0V0z\" fill=\"none\"/>\n",
              "    <path d=\"M18.56 5.44l.94 2.06.94-2.06 2.06-.94-2.06-.94-.94-2.06-.94 2.06-2.06.94zm-11 1L8.5 8.5l.94-2.06 2.06-.94-2.06-.94L8.5 2.5l-.94 2.06-2.06.94zm10 10l.94 2.06.94-2.06 2.06-.94-2.06-.94-.94-2.06-.94 2.06-2.06.94z\"/><path d=\"M17.41 7.96l-1.37-1.37c-.4-.4-.92-.59-1.43-.59-.52 0-1.04.2-1.43.59L10.3 9.45l-7.72 7.72c-.78.78-.78 2.05 0 2.83L4 21.41c.39.39.9.59 1.41.59.51 0 1.02-.2 1.41-.59l7.78-7.78 2.81-2.81c.8-.78.8-2.07 0-2.86zM5.41 20L4 18.59l7.72-7.72 1.47 1.35L5.41 20z\"/>\n",
              "  </svg>\n",
              "      </button>\n",
              "      \n",
              "  <style>\n",
              "    .colab-df-container {\n",
              "      display:flex;\n",
              "      flex-wrap:wrap;\n",
              "      gap: 12px;\n",
              "    }\n",
              "\n",
              "    .colab-df-convert {\n",
              "      background-color: #E8F0FE;\n",
              "      border: none;\n",
              "      border-radius: 50%;\n",
              "      cursor: pointer;\n",
              "      display: none;\n",
              "      fill: #1967D2;\n",
              "      height: 32px;\n",
              "      padding: 0 0 0 0;\n",
              "      width: 32px;\n",
              "    }\n",
              "\n",
              "    .colab-df-convert:hover {\n",
              "      background-color: #E2EBFA;\n",
              "      box-shadow: 0px 1px 2px rgba(60, 64, 67, 0.3), 0px 1px 3px 1px rgba(60, 64, 67, 0.15);\n",
              "      fill: #174EA6;\n",
              "    }\n",
              "\n",
              "    [theme=dark] .colab-df-convert {\n",
              "      background-color: #3B4455;\n",
              "      fill: #D2E3FC;\n",
              "    }\n",
              "\n",
              "    [theme=dark] .colab-df-convert:hover {\n",
              "      background-color: #434B5C;\n",
              "      box-shadow: 0px 1px 3px 1px rgba(0, 0, 0, 0.15);\n",
              "      filter: drop-shadow(0px 1px 2px rgba(0, 0, 0, 0.3));\n",
              "      fill: #FFFFFF;\n",
              "    }\n",
              "  </style>\n",
              "\n",
              "      <script>\n",
              "        const buttonEl =\n",
              "          document.querySelector('#df-514243a8-63c8-4d75-80a0-926a30877f22 button.colab-df-convert');\n",
              "        buttonEl.style.display =\n",
              "          google.colab.kernel.accessAllowed ? 'block' : 'none';\n",
              "\n",
              "        async function convertToInteractive(key) {\n",
              "          const element = document.querySelector('#df-514243a8-63c8-4d75-80a0-926a30877f22');\n",
              "          const dataTable =\n",
              "            await google.colab.kernel.invokeFunction('convertToInteractive',\n",
              "                                                     [key], {});\n",
              "          if (!dataTable) return;\n",
              "\n",
              "          const docLinkHtml = 'Like what you see? Visit the ' +\n",
              "            '<a target=\"_blank\" href=https://colab.research.google.com/notebooks/data_table.ipynb>data table notebook</a>'\n",
              "            + ' to learn more about interactive tables.';\n",
              "          element.innerHTML = '';\n",
              "          dataTable['output_type'] = 'display_data';\n",
              "          await google.colab.output.renderOutput(dataTable, element);\n",
              "          const docLink = document.createElement('div');\n",
              "          docLink.innerHTML = docLinkHtml;\n",
              "          element.appendChild(docLink);\n",
              "        }\n",
              "      </script>\n",
              "    </div>\n",
              "  </div>\n",
              "  "
            ],
            "text/plain": [
              "                  Open        High  ...    Volume  Rendimiento\n",
              "Date                                ...                       \n",
              "2021-02-01  196.000000  197.380005  ...   9061900          NaN\n",
              "2021-02-02  198.979996  203.029999  ...  11130600     0.026042\n",
              "2021-02-03  202.000000  208.160004  ...  11836900     0.032099\n",
              "2021-02-04  209.869995  212.479996  ...  11869900     0.015671\n",
              "2021-02-05  212.250000  213.199997  ...   9546100    -0.012866\n",
              "...                ...         ...  ...       ...          ...\n",
              "2022-02-18  212.559998  214.729996  ...   6973600    -0.021304\n",
              "2022-02-22  205.000000  206.899994  ...  10382100    -0.049227\n",
              "2022-02-23  201.130005  203.250000  ...   7326300    -0.011674\n",
              "2022-02-24  189.289993  198.860001  ...  12207600     0.010233\n",
              "2022-02-25  201.089996  204.070007  ...   8730300     0.015371\n",
              "\n",
              "[271 rows x 6 columns]"
            ]
          },
          "metadata": {},
          "execution_count": 5
        }
      ]
    },
    {
      "cell_type": "code",
      "source": [
        "plt.plot(asset.Close)\n",
        "plt.show()"
      ],
      "metadata": {
        "colab": {
          "base_uri": "https://localhost:8080/",
          "height": 265
        },
        "id": "XhMWDX1kUevJ",
        "outputId": "d877b448-30ba-48d6-818b-dd672ca6553d"
      },
      "execution_count": null,
      "outputs": [
        {
          "output_type": "display_data",
          "data": {
            "image/png": "[encoded data removed]",
            "text/plain": [
              "<Figure size 432x288 with 1 Axes>"
            ]
          },
          "metadata": {
            "needs_background": "light"
          }
        }
      ]
    },
    {
      "cell_type": "code",
      "source": [
        "plt.plot(asset.Rendimiento)\n",
        "plt.show()"
      ],
      "metadata": {
        "colab": {
          "base_uri": "https://localhost:8080/",
          "height": 265
        },
        "id": "VrW8E_c3krrK",
        "outputId": "68cbc46c-3f8a-488c-ef75-aac41b5bf7a5"
      },
      "execution_count": null,
      "outputs": [
        {
          "output_type": "display_data",
          "data": {
            "image/png": "[encoded data removed]",
            "text/plain": [
              "<Figure size 432x288 with 1 Axes>"
            ]
          },
          "metadata": {
            "needs_background": "light"
          }
        }
      ]
    },
    {
      "cell_type": "code",
      "source": [
        "plt.hist(asset.Rendimiento, edgecolor='black')\n",
        "plt.show()"
      ],
      "metadata": {
        "colab": {
          "base_uri": "https://localhost:8080/",
          "height": 267
        },
        "id": "7Ane8HFulbmg",
        "outputId": "077c1389-7379-4806-bee4-7ec16f739c2d"
      },
      "execution_count": null,
      "outputs": [
        {
          "output_type": "display_data",
          "data": {
            "image/png": "[encoded data removed]",
            "text/plain": [
              "<Figure size 432x288 with 1 Axes>"
            ]
          },
          "metadata": {
            "needs_background": "light"
          }
        }
      ]
    },
    {
      "cell_type": "code",
      "source": [
        "RendimientoEsperadoDiario = asset.Rendimiento.mean()\n",
        "volatilidadDiaria = asset.Rendimiento.std()\n",
        "\n",
        "print(\"Rendimiento Esperado Diario = {:.2%}\".format(RendimientoEsperadoDiario))\n",
        "print(\"Volatilidad Diaria = {:.2%}\".format(volatilidadDiaria))"
      ],
      "metadata": {
        "colab": {
          "base_uri": "https://localhost:8080/"
        },
        "id": "ZryiZNdD96C-",
        "outputId": "211c140d-32d4-4457-9902-bd87420428d6"
      },
      "execution_count": null,
      "outputs": [
        {
          "output_type": "stream",
          "name": "stdout",
          "text": [
            "Rendimiento Esperado Diario = 0.04%\n",
            "Volatilidad Diaria = 2.29%\n"
          ]
        }
      ]
    },
    {
      "cell_type": "code",
      "source": [
        "# Anualizando\n",
        "RendimientoAnualizado = RendimientoEsperadoDiario * 252\n",
        "VolatilidadAnualizada = volatilidadDiaria * np.sqrt(252)\n",
        "print(\"Rendimiento Esperado Anual = {:.2%}\".format(RendimientoAnualizado))\n",
        "print(\"Volatilidad Anual = {:.2%}\".format(VolatilidadAnualizada))"
      ],
      "metadata": {
        "colab": {
          "base_uri": "https://localhost:8080/"
        },
        "id": "0NTU655JUpFS",
        "outputId": "8c839794-3bd4-42fd-c616-493be0ac0c66"
      },
      "execution_count": null,
      "outputs": [
        {
          "output_type": "stream",
          "name": "stdout",
          "text": [
            "Rendimiento Esperado Anual = 9.20%\n",
            "Volatilidad Anual = 36.39%\n"
          ]
        }
      ]
    },
    {
      "cell_type": "code",
      "source": [
        "# curva Gaussiana\n",
        "# Regla 66-95-99\n",
        "print(\"66% \\t{:.2%}\\t{:.2%}\\t{:.2%}\".format(RendimientoAnualizado-VolatilidadAnualizada,RendimientoAnualizado,RendimientoAnualizado+VolatilidadAnualizada))\n",
        "print(\"95% \\t{:.2%}\\t{:.2%}\\t{:.2%}\".format(RendimientoAnualizado-2*VolatilidadAnualizada,RendimientoAnualizado,RendimientoAnualizado+2*VolatilidadAnualizada))\n",
        "print(\"99% \\t{:.2%}\\t{:.2%}\\t{:.2%}\".format(RendimientoAnualizado-3*VolatilidadAnualizada,RendimientoAnualizado,RendimientoAnualizado+3*VolatilidadAnualizada))\n"
      ],
      "metadata": {
        "colab": {
          "base_uri": "https://localhost:8080/"
        },
        "id": "RVArHHelc8sD",
        "outputId": "2f8b3abf-e7a3-4456-dfcb-e30c46af1508"
      },
      "execution_count": null,
      "outputs": [
        {
          "output_type": "stream",
          "name": "stdout",
          "text": [
            "66% \t-27.19%\t9.20%\t45.60%\n",
            "95% \t-63.58%\t9.20%\t81.99%\n",
            "99% \t-99.97%\t9.20%\t118.38%\n"
          ]
        }
      ]
    }
  ]
}